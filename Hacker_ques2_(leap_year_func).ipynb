{
  "nbformat": 4,
  "nbformat_minor": 0,
  "metadata": {
    "colab": {
      "name": "Hacker ques2 (leap_year_func).ipynb",
      "provenance": [],
      "authorship_tag": "ABX9TyN0/k1Egnvc/U5AiLclLtSL",
      "include_colab_link": true
    },
    "kernelspec": {
      "name": "python3",
      "display_name": "Python 3"
    },
    "language_info": {
      "name": "python"
    }
  },
  "cells": [
    {
      "cell_type": "markdown",
      "metadata": {
        "id": "view-in-github",
        "colab_type": "text"
      },
      "source": [
        "<a href=\"https://colab.research.google.com/github/saubhagyav/Hacker-rank-questions/blob/main/Hacker_ques2_(leap_year_func).ipynb\" target=\"_parent\"><img src=\"https://colab.research.google.com/assets/colab-badge.svg\" alt=\"Open In Colab\"/></a>"
      ]
    },
    {
      "cell_type": "markdown",
      "metadata": {
        "id": "4uSFv5VSzxjY"
      },
      "source": [
        "An extra day is added to the calendar almost every four years as February 29, and the day is called a leap day. It corrects the calendar for the fact that our planet takes approximately 365.25 days to orbit the sun. A leap year contains a leap day.\n",
        "\n",
        "In the Gregorian calendar, three conditions are used to identify leap years:\n",
        "\n",
        "The year can be evenly divided by 4, is a leap year, unless:\n",
        "The year can be evenly divided by 100, it is NOT a leap year, unless:\n",
        "The year is also evenly divisible by 400. Then it is a leap year.\n",
        "This means that in the Gregorian calendar, the years 2000 and 2400 are leap years, while 1800, 1900, 2100, 2200, 2300 and 2500 are NOT leap years."
      ]
    },
    {
      "cell_type": "markdown",
      "metadata": {
        "id": "zk06oMxzz56P"
      },
      "source": [
        "# Task\n",
        "\n",
        "Given a year, determine whether it is a leap year. If it is a leap year, return the Boolean True, otherwise return False.\n",
        "\n",
        "Note that the code stub provided reads from STDIN and passes arguments to the is_leap function. It is only necessary to complete the is_leap function."
      ]
    },
    {
      "cell_type": "markdown",
      "metadata": {
        "id": "GoMzGNDEz_hP"
      },
      "source": [
        "# Sample Input \n",
        "**0**\n",
        "\n",
        "**1990**\n",
        "# Sample Output \n",
        "**0**\n",
        "\n",
        "**False**"
      ]
    },
    {
      "cell_type": "code",
      "metadata": {
        "id": "600E6SpEz4qk"
      },
      "source": [
        "def is_leap(year):\n",
        "    \n",
        "    if year%4 ==0:\n",
        "        leap = True\n",
        "        if year%100 == 0:\n",
        "            leap = False\n",
        "            if year%400 == 0:\n",
        "                leap = True\n",
        "    elif year%4 !=0:\n",
        "        leap = False\n",
        "            \n",
        "    \n",
        "    return leap"
      ],
      "execution_count": null,
      "outputs": []
    },
    {
      "cell_type": "code",
      "metadata": {
        "colab": {
          "base_uri": "https://localhost:8080/"
        },
        "id": "K_HhLRyfzxVh",
        "outputId": "ce0fb02b-d725-4c3d-9fe3-93b5aa1e016e"
      },
      "source": [
        "year = int(input(f'Input the Year you wanna check? \\n'))\n",
        "is_leap(year)"
      ],
      "execution_count": null,
      "outputs": [
        {
          "output_type": "stream",
          "text": [
            "Input the Year you wanna check? \n",
            "2000\n"
          ],
          "name": "stdout"
        },
        {
          "output_type": "execute_result",
          "data": {
            "text/plain": [
              "True"
            ]
          },
          "metadata": {
            "tags": []
          },
          "execution_count": 8
        }
      ]
    },
    {
      "cell_type": "code",
      "metadata": {
        "colab": {
          "base_uri": "https://localhost:8080/"
        },
        "id": "E4CXti7ZzrD0",
        "outputId": "98a14e47-c6e3-48de-8a5a-0f23d222721b"
      },
      "source": [
        "year = int(input(f'Input the Year you wanna check? \\n'))\n",
        "is_leap(year)"
      ],
      "execution_count": null,
      "outputs": [
        {
          "output_type": "stream",
          "text": [
            "Input the Year you wanna check? \n",
            "2100\n"
          ],
          "name": "stdout"
        },
        {
          "output_type": "execute_result",
          "data": {
            "text/plain": [
              "False"
            ]
          },
          "metadata": {
            "tags": []
          },
          "execution_count": 9
        }
      ]
    },
    {
      "cell_type": "code",
      "metadata": {
        "colab": {
          "base_uri": "https://localhost:8080/"
        },
        "id": "gwhFsJLT0waI",
        "outputId": "984fa620-71c5-482e-a1c3-550a5ca40809"
      },
      "source": [
        "year = int(input(f'Input the Year you wanna check? \\n'))\n",
        "is_leap(year)"
      ],
      "execution_count": null,
      "outputs": [
        {
          "output_type": "stream",
          "text": [
            "Input the Year you wanna check? \n",
            "1846\n"
          ],
          "name": "stdout"
        },
        {
          "output_type": "execute_result",
          "data": {
            "text/plain": [
              "False"
            ]
          },
          "metadata": {
            "tags": []
          },
          "execution_count": 10
        }
      ]
    }
  ]
}