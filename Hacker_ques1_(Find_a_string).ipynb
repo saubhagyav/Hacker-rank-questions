{
  "nbformat": 4,
  "nbformat_minor": 0,
  "metadata": {
    "colab": {
      "name": "Hacker ques1 (Find a string).ipynb",
      "provenance": [],
      "collapsed_sections": [],
      "authorship_tag": "ABX9TyNex4frexxJ/++fFyMV4rJv",
      "include_colab_link": true
    },
    "kernelspec": {
      "name": "python3",
      "display_name": "Python 3"
    },
    "language_info": {
      "name": "python"
    }
  },
  "cells": [
    {
      "cell_type": "markdown",
      "metadata": {
        "id": "view-in-github",
        "colab_type": "text"
      },
      "source": [
        "<a href=\"https://colab.research.google.com/github/saubhagyav/Hacker-rank-questions/blob/main/Hacker_ques1_(Find_a_string).ipynb\" target=\"_parent\"><img src=\"https://colab.research.google.com/assets/colab-badge.svg\" alt=\"Open In Colab\"/></a>"
      ]
    },
    {
      "cell_type": "markdown",
      "metadata": {
        "id": "YNZP9kgj6MpS"
      },
      "source": [
        "# In this challenge, the user enters a string and a substring. You have to print the number of times that the substring occurs in the given string. String traversal will take place from left to right, not from right to left.\n",
        "\n",
        "\n"
      ]
    },
    {
      "cell_type": "markdown",
      "metadata": {
        "id": "UOfUk3eq6YoA"
      },
      "source": [
        "**Input Format**\n",
        "\n",
        "The first line of input contains the original string. The next line contains the substring.\n",
        "\n",
        "**Sample Input**\n",
        "\n",
        "ABCDCDC\n",
        "\n",
        "CDC\n",
        "\n",
        "**Output Format**\n",
        "\n",
        "Output the integer number indicating the total number of occurrences of the substring in the original string.\n",
        "\n",
        "**Sample Output**\n",
        "\n",
        "2"
      ]
    },
    {
      "cell_type": "code",
      "metadata": {
        "id": "_IFhybeC6MAn"
      },
      "source": [
        "def count_substring(string, sub_string):\n",
        "  global l\n",
        "  l = list(string.split(sub_string))\n",
        "\n",
        "  if string == string.upper() or string == string.lower():\n",
        "    if sub_string in string:\n",
        "      l = list(string.split(sub_string))\n",
        "      return len(l)\n",
        "    else:\n",
        "      l_null = ''\n",
        "      return l_null\n",
        "      \n",
        "\n",
        "  if string != string.upper() or string != string.lower():  \n",
        "    l1 = l.count(sub_string)\n",
        "    \n",
        "    if len(l) > l1:\n",
        "      return (len(l) - 1)\n",
        "    else:\n",
        "      return l1\n",
        "\n"
      ],
      "execution_count": 164,
      "outputs": []
    },
    {
      "cell_type": "code",
      "metadata": {
        "colab": {
          "base_uri": "https://localhost:8080/"
        },
        "id": "iT3tl8A361w2",
        "outputId": "0cc397ec-373b-42cd-bb4e-29e56bba5ddf"
      },
      "source": [
        "# You can see how my code gives the desired answer\n",
        "count_substring('ABCDCDC', 'CDC')"
      ],
      "execution_count": 165,
      "outputs": [
        {
          "output_type": "execute_result",
          "data": {
            "text/plain": [
              "2"
            ]
          },
          "metadata": {
            "tags": []
          },
          "execution_count": 165
        }
      ]
    },
    {
      "cell_type": "code",
      "metadata": {
        "colab": {
          "base_uri": "https://localhost:8080/"
        },
        "id": "B32tIz_G61n9",
        "outputId": "d2ff0bdf-9dd7-4b09-f79b-4196cd5d4e5b"
      },
      "source": [
        "# even after changing the case of string, I got the correct answer.\n",
        "count_substring('ABcdCDC', 'CDC')"
      ],
      "execution_count": 166,
      "outputs": [
        {
          "output_type": "execute_result",
          "data": {
            "text/plain": [
              "1"
            ]
          },
          "metadata": {
            "tags": []
          },
          "execution_count": 166
        }
      ]
    },
    {
      "cell_type": "code",
      "metadata": {
        "colab": {
          "base_uri": "https://localhost:8080/"
        },
        "id": "Xnyt0go-7W03",
        "outputId": "fd8fb044-162d-40dc-e1b8-e5ffae3ad4a8"
      },
      "source": [
        "\n",
        "count_substring('abcabcabcabcDCDC', 'ABC')"
      ],
      "execution_count": 167,
      "outputs": [
        {
          "output_type": "execute_result",
          "data": {
            "text/plain": [
              "0"
            ]
          },
          "metadata": {
            "tags": []
          },
          "execution_count": 167
        }
      ]
    },
    {
      "cell_type": "code",
      "metadata": {
        "colab": {
          "base_uri": "https://localhost:8080/"
        },
        "id": "oPVIUL4j8cH3",
        "outputId": "05e18ebb-a5a0-4ee0-c15b-849bd4c9a1ee"
      },
      "source": [
        "\n",
        "count_substring('I am an Indian, by birth.', 'Birth')"
      ],
      "execution_count": 129,
      "outputs": [
        {
          "output_type": "execute_result",
          "data": {
            "text/plain": [
              "0"
            ]
          },
          "metadata": {
            "tags": []
          },
          "execution_count": 129
        }
      ]
    },
    {
      "cell_type": "code",
      "metadata": {
        "colab": {
          "base_uri": "https://localhost:8080/"
        },
        "id": "G8YOiusO9noW",
        "outputId": "1c2c3414-2cb5-4e53-cf9e-8647aa7da310"
      },
      "source": [
        "count_substring('ThIsisCoNfUsInG', 'is')"
      ],
      "execution_count": 168,
      "outputs": [
        {
          "output_type": "execute_result",
          "data": {
            "text/plain": [
              "1"
            ]
          },
          "metadata": {
            "tags": []
          },
          "execution_count": 168
        }
      ]
    },
    {
      "cell_type": "code",
      "metadata": {
        "colab": {
          "base_uri": "https://localhost:8080/"
        },
        "id": "q_eHtCaA02Ye",
        "outputId": "d9d9e033-03c6-432c-82de-9363a30493e4"
      },
      "source": [
        "# test case when the function doesn't work\n",
        "\n",
        "count_substring('12jlka445kljakldfjlaksjdfdka3942', '3942')"
      ],
      "execution_count": 170,
      "outputs": [
        {
          "output_type": "execute_result",
          "data": {
            "text/plain": [
              "2"
            ]
          },
          "metadata": {
            "tags": []
          },
          "execution_count": 170
        }
      ]
    }
  ]
}