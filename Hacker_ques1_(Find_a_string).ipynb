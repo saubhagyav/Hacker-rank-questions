{
  "nbformat": 4,
  "nbformat_minor": 0,
  "metadata": {
    "colab": {
      "name": "Hacker ques1 (Find a string).ipynb",
      "provenance": [],
      "authorship_tag": "ABX9TyOFrhYeeJgnCEMcuHloXHaj",
      "include_colab_link": true
    },
    "kernelspec": {
      "name": "python3",
      "display_name": "Python 3"
    },
    "language_info": {
      "name": "python"
    }
  },
  "cells": [
    {
      "cell_type": "markdown",
      "metadata": {
        "id": "view-in-github",
        "colab_type": "text"
      },
      "source": [
        "<a href=\"https://colab.research.google.com/github/saubhagyav/Hacker-rank-questions/blob/main/Hacker_ques1_(Find_a_string).ipynb\" target=\"_parent\"><img src=\"https://colab.research.google.com/assets/colab-badge.svg\" alt=\"Open In Colab\"/></a>"
      ]
    },
    {
      "cell_type": "markdown",
      "metadata": {
        "id": "YNZP9kgj6MpS"
      },
      "source": [
        "# In this challenge, the user enters a string and a substring. You have to print the number of times that the substring occurs in the given string. String traversal will take place from left to right, not from right to left.\n",
        "\n",
        "\n"
      ]
    },
    {
      "cell_type": "markdown",
      "metadata": {
        "id": "UOfUk3eq6YoA"
      },
      "source": [
        "**Input Format**\n",
        "\n",
        "The first line of input contains the original string. The next line contains the substring.\n",
        "\n",
        "**Sample Input**\n",
        "\n",
        "ABCDCDC\n",
        "\n",
        "CDC\n",
        "\n",
        "**Output Format**\n",
        "\n",
        "Output the integer number indicating the total number of occurrences of the substring in the original string.\n",
        "\n",
        "**Sample Output**\n",
        "\n",
        "2"
      ]
    },
    {
      "cell_type": "code",
      "metadata": {
        "id": "_IFhybeC6MAn"
      },
      "source": [
        "def count_substring(string, sub_string):\n",
        "    string = string.lower()\n",
        "    sub_string = sub_string.lower()\n",
        "    l = list(string.split(sub_string))\n",
        "    \n",
        "    return len(l)"
      ],
      "execution_count": 1,
      "outputs": []
    },
    {
      "cell_type": "code",
      "metadata": {
        "colab": {
          "base_uri": "https://localhost:8080/"
        },
        "id": "iT3tl8A361w2",
        "outputId": "2bb14fef-37bc-40a5-d483-93d213a6ff23"
      },
      "source": [
        "# You can see how my code gives the desired answer\n",
        "count_substring('ABCDCDC', 'CDC')"
      ],
      "execution_count": 3,
      "outputs": [
        {
          "output_type": "execute_result",
          "data": {
            "text/plain": [
              "2"
            ]
          },
          "metadata": {
            "tags": []
          },
          "execution_count": 3
        }
      ]
    },
    {
      "cell_type": "code",
      "metadata": {
        "colab": {
          "base_uri": "https://localhost:8080/"
        },
        "id": "B32tIz_G61n9",
        "outputId": "06471f14-0b20-4551-eef7-11b3e452a94a"
      },
      "source": [
        "# even after changing the case of string, I got the correct answer.\n",
        "count_substring('ABcdCDC', 'CDC')"
      ],
      "execution_count": 4,
      "outputs": [
        {
          "output_type": "execute_result",
          "data": {
            "text/plain": [
              "2"
            ]
          },
          "metadata": {
            "tags": []
          },
          "execution_count": 4
        }
      ]
    },
    {
      "cell_type": "code",
      "metadata": {
        "colab": {
          "base_uri": "https://localhost:8080/"
        },
        "id": "Xnyt0go-7W03",
        "outputId": "823114b6-1244-468f-ea54-d9b5e61cf271"
      },
      "source": [
        "\n",
        "count_substring('abcabcabcabcDCDC', 'ABC')"
      ],
      "execution_count": 5,
      "outputs": [
        {
          "output_type": "execute_result",
          "data": {
            "text/plain": [
              "5"
            ]
          },
          "metadata": {
            "tags": []
          },
          "execution_count": 5
        }
      ]
    }
  ]
}