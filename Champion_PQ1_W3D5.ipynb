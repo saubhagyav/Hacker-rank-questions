{
  "nbformat": 4,
  "nbformat_minor": 0,
  "metadata": {
    "colab": {
      "name": "Champion_PQ1 W3D5.ipynb",
      "provenance": [],
      "collapsed_sections": [],
      "authorship_tag": "ABX9TyOaglHLZOf1mVZqLRBoyQ1Q",
      "include_colab_link": true
    },
    "kernelspec": {
      "name": "python3",
      "display_name": "Python 3"
    },
    "language_info": {
      "name": "python"
    }
  },
  "cells": [
    {
      "cell_type": "markdown",
      "metadata": {
        "id": "view-in-github",
        "colab_type": "text"
      },
      "source": [
        "<a href=\"https://colab.research.google.com/github/saubhagyav/Hacker-rank-questions/blob/main/Champion_PQ1_W3D5.ipynb\" target=\"_parent\"><img src=\"https://colab.research.google.com/assets/colab-badge.svg\" alt=\"Open In Colab\"/></a>"
      ]
    },
    {
      "cell_type": "markdown",
      "source": [
        "## 1. Write a Python program to find the indices of three numbers that sum to 0 in a given list of numbers.\n",
        "\n",
        "![image.png](data:image/png;base64,iVBORw0KGgoAAAANSUhEUgAAAU4AAAB2CAYAAACnDXodAAAAAXNSR0IArs4c6QAAAARnQU1BAACxjwv8YQUAAAAJcEhZcwAADsMAAA7DAcdvqGQAABCGSURBVHhe7d29TxRbHwfw7/NUFIsYKAgGsxKDgeLemJubS6BZt9AKk01s6OT+BU/sLLe8nXn+gqsdjckmUmmBNJAl5sZoAYEYMBgJBUR0C7rnOb9zzuy87At7Zs6svHw/yQTWwdnZ2Znf+Z2XOfOv09PT/4GIiHr2b/uTiIh6xMBJROSIgZOIyBEDJxGRIwZOIiJHl7hX/RhLL19hsWFeVWcf4+kd8zsRXT31Ny9Q+mp+r0w/xNIfw+ZFCq2B86iOheUt1OxLrTCFz49mMGpf+meC3N4vPoNbt22GQbX1AMYDbtYD3N0O/nqxhqp91XRjDqf3J+2LFJLfYZ++v+CYqTfE8/lHWBiR3xPrsn62pvDYdSoUzYUS3Zfs8thmi+3XGFg/sC9Czc+ZXO/tmHZ2uPESxU31JXo7l3xfZ8lz0Gqzv/IdPhvK9n6tVfWRGSw9fozT+SlUMIZV+T3Xi67f5IKTgPoQzwv2nyION1ZQu/kQp/YYYHMFS0d2pXeTeCrvE1lWb6iTaCjjFRl8h3pRnxNb+HvbrstB7JjJMjuIxX929Lr6G3UyX1MXtl23ijUsbBzrdalJwfDiA27Nz7UWOpZc6CV1/nZan0Ye22zrzoPwWOpFPmcBt/Rpoc7fdZjrUi/q+/3+Icdz1ASa4smv+Dzd5oJJyf91NoyFR8ExMYve32vDucQutzZOOWFf1rGkDuTAC7P8FVyQdl1dnVzBuvACkWD1MnJgwtdyMg6oQCYlRXU92G70bxUpYaPvlYkJVp0y29E/HoUl0cgkKoUG9nI8KWPUMXz2dQxPvGa4R9hrBBddPkavD6LWPPFVyf/xwAb/Y+x+V9nZb2E2NFMcQ+0k4wHVBUOXjE8dx/9sDmL1/oT9Bw/y2GaPDjc+oHrjV/t5R3CrcIDSG1MwYfudunYGMZHj9ztzXwUizxlt/tfZDv7eROzc88m9c6ixhUXYDGJWlb4f6zi0q2RdSZVMYSnyDnW7qhM5gLrUVIWDVEVMaZFjNcjF0Q5qjTGUvTUfdFf/ZwuY/h0z9nUWpkCSQmgN76fL+R5PyZDmx1FblvczzSPmohjGxLUGap+CAtQEVXw/Ds8Z79R7vN3C3dkHXo6jkcc2e5UMACazksxdf78fh/D58c/YL49yuM7ihY1/KXrVVfU9KH1GhlBpnGDPvFKi66QU+YFdH6WIrbr4a//shcqKl31dLJJhB9m0WlRm3hI4PGebpkCSQughKvuvslePJXi8jHyGF6/DQlFqBMtfUJk3BeZ7VXMI3m/m/hzubr6y/2cFuDmWW/VJBFVAn+dKHtvUbE0qWNp9R60BwHwPJZu8rF7bQjH6XaTWwzmaC5/XWSDfbFNwOFJbchKtAd564hNtmS1txiaj8ZVtxqkM5RcP1eOWNqTwRK9/VlXzIKuVarSqidT2d+yFF/3sj1DGj+xtuB3JBaMy3Gagls6jBhYlEw6qts7y2KaVaMts6azQzQOJAGCzsyBBmbkvtbUDrGRuxjrrHM2D7+vMqL9R31GO2abIL3BK2wvGUW7ufNiGoT+Y+dWSKh3w/luHrMhrG+cZ1Mm60PXLtCWzzxJZt1N1yjazvp8Kys02x0CQPfrIVIxoYD789sP+lqC+x+LmYOJz+tyXZGeb6VR5LplwpI0uaMbo7XzqbZvBOZo9sw9J002tbQCI1uSkDdv+GshhX7pLcY7mdZ3pmlu8XT0PrYFTfyC1w3o4ywFKTjtv/14W6flrllqT+HO60Oz8eTY019KjPfObtIkGpXqic8ir4EI1HVJBJhFcRPpkVT/Djiq1xD6/NM6rH7EmiixsYOuYbbq/X9i+aT5n2OYYMAVV/AJMT2c9322bm1okODa/+2h1tG17XJp9sReVzv6C76r3c0Y6s0THgjoNabZSP7Jn9lanAKAz+kGT8dpj8H460YzgeV+C80kPR2pI04B631i27X6O5nWddS5s/PI3AF4C7vIJnpybhmoJkL7HhhpyIhX3x3MeGxnK5f0koOlhLefg++r7vkjg9V1FNOebtIW2VLn7rv/7ksc5mtd1ls84TurMZuN9C5q5vJ/N1s5F0Oz/vshFI1maz6BpMrLzETT7vi95nKP9vs5SuPQZZ3AnAW+5JLrazF1f5nf/t1wSEVFXrKoTETli4CQicsTASUTkiIGTiMhR+8AZHbSslt7v2JHhJb4Hr0vveJ/uGiIi6kFr4JRhRes/zC1lcouZnrQhzzt5iIgulpbhSO1G1Tf/7fZOfKxmZOwmImOkQjIRsvytZKK7KM8CpWDm6uas1bJOJqUNppILX5c/2VmnY+Q+4ci0c/qukwOO0ySivklknDLxLHD3enxg6K2hwpn3verJTqMTIOgJEaKD4Q9Q0vcq27/7evas1ed6rk4iurL62DmkAuq94PapSZRveJrx+afM1UlEV1kicLaf3m3vpJHjHIpERBdLS8apnwkTfeTF9muUYjOTB9N/HevJd2NPw9RTQfWQSR6Z2c7DqfIvyFydRERK23vV9XROzU6ZeGdM9Eb56uwcsL6LcrQt03bWGNHOoWhAjG8z+n6V6TlU9j8A9yJtmboTKgjS7Bwiop+rT5N8JHvOiYgurj52DhERXQ4MnEREjjgfJxGRI2acRESOGDiJiBwxcBIROerQxhkdd5kYN3kZxMaFBmNNiYh60yVwdhp3GQZVb4POuw1wTyX+hEutMNX6qNHI7E4MnETUK7equgQaHVBlFiRf5NbNL6jYGZU+TwOLb+s4tGuzCGdUUss5fT4zEV08boFzZAZL3qd1G8bCo3Cbo7fHUWmcYM+8JCI6d85d59Dhpy+o3ZjwUnWurqd5/AcRUXfnK3Buv0ZxcxCremb4LCSLjVTTZ8dUEOXjP4jIj/MTOPUsR8inh/vOhMc2WSK66rwHTpkizrVqrP9Pt6Bp59xc2OgwJ+cZDjc+oFoYR/kyDakiop/GMXDKUCRpM7TDkXQbYrwKPHp9UP/sOPFwix38refiPEDJtke2BMmRIVTUj7OeexQyjxQOtlXcH28dikRElFKKcZxnMeM84XViYTMus3Yz/vTNzDiOk4hS8FpVl9nhJRv1GTRN1T+HoElElBJvueQtl0TkiPNxEhE5Ol/jOImILgAGTiIiRwycRESOGDiJiBwxcBIROWLgJCJyxMBJROSIgZOIyBEDJxGRIwZOIiJHDJxERI4YOImIHDFwEhE5YuAkInLEwElE5IiBk4jIEQMnEZEjBk4iIkcMnEREji7xM4fMI4UX5ZHtStXr44rpytl+jYH1A/N7YYrP6b/iWgNn7AmQVu4niglye7/4fxZ7+22GQbUy7euxw/FA7WW70YtV3JjD6f1J+yIr+yRTH99tcj8VXwWVPB66uGkPqtfPHxd7n6Y2T3iVz/pxiIHzimutqo/MYOnxY5zOT6GiH52rfr9UJ4kEDAmoD/G8YP/Jg8ONFf3s91N77LC5gqUjuzKtOw/M9vQyh+rXD9m3qUmQX1OBaMy+9kACcHNf/QRNeU5/cX883G5OQVOM/vGoue960ef/ICYu02OxyRu3Nk7JRl/WsaRO6IEXZvlrO76urkruYN3CxrFdKcHqZeSiD19LST+gAplkatX1YLvRv1WklI++VyaTeKouDN/VdrnwmhnmyCQqhQb2vAQ56+gY7z1dyBLkF6/N4WnR/sO5tIOVr6rg/kmFdv2fLWD6dz5vn9py7xxqbGERqsokpfLsGKof6zi0q2Rd6eTXZomNzXeo21WdmJLeZH9SvTMlfqJ6dNEc7aDWGEPZU9alC5PlLdydfZD9QlYF3H82B7HqO3tT333RFpgDqgBtnhNpbe+iWhjCbqSQDgvinKlj9EwF7SdemnDoMkrRq66ygOCiGxlCpXGCPfNKia6TrOsHdn1kXbbK6jtLzIfKpn0FOWXmflCYzAEqI8+Wdasq+tsvqMz72bemWJOCKgShguibHbsyAxWM94rh57/rofnD1HDCYNzueDLbpLNwOJJXpsMFufTgT+LP6QLef8uQdW2/w2KjgcVlGzikQ8dmin6aQcQwyjc9NR4XpvBn8ziO4JaH5o9kW2bL97T9GiVmm3SG/AKnXKQYR7lZ5Q5P+vqbNVTNr9YwJq6hc1Dw2sbZCwmAKrC4VDmljbdr0EyxzZgd/L3ZwN3r0QvacZuxzFAts2PNTp1wn6XjSALr6zObWdoz+1ktRpsCUmzzzgSqjS9YCQJlm+aPIHv0d16o/fx4gAqzTTpDa+DUAUCd5HpI0gFKThe7/XtZ1hFp2DfZUtD582xorqVHe+Y3aRN9Zf5vsnPIq+AiNh1SNfue8YtPshv1I9YM0Z1U72QIV9jBpZbYcUuxzUj73sCLD7g1nwzK7ts8mynEAIdmFluwmaVd4ZFim9KJNzsYZsfLrU0Mo9cH9c9MWXiUzsiZbdLZ/A2Al4C7fIInjz23n6UmATL92FA9rk+Gwnjs1b0o29SBUAo+n99lHtvUGXdeTSMdyOfgOM4rj22cSTbj9hqMLso2g6q/1wCXxzaDbLzPQZPIuvQZJ2+5JC90xsxbLsm4xPeqExHlg1V1IiJHDJxERI4YOImIHDFwEhE5ah84YwOaXe7MkKEnvgevmwHr/btriIiou9bAKcOK1n/g+by9LW9+Cu/X87yTh4joYmkZjiQDi58NxWcvb/7b7Z34WM3I2E2ovyl91X8eIRMhy99KJrqL8ixQCsbCNWfzlnVyO2EwlVz4uvyph1m57fg6jtMkon5JZJzH2P2OxEQSwK2hAmon3VNOM/3ZHKo6sNlsNTYY/gAluVVN/3tvs5lfyrk6iejC62PnkAqo94K7LSZRvuFphvQLNVcnEV0GicDZfnq3vZMGKkNM84iIREvGOVMcQy36yIvt5MSuwdRgx1h6m3gaZq+TzR6ZRxOEcytepLk6ieiqa3uvup6qrNkpE++MkY6ioBOoOiuPc9hFOdqWGZ0MIdY5FA2I8W1G368yPYfK/gfgXqQtU3dCBUGanUNE9HP1aZKPZM85EdHF1cfOISKiy4GBk4jIEefjJCJyxIyTiMgRAycRkSMGTiIiRx3aOKPjLhPjJi+D2LjQYKwpEVFvugTODuMu2w5wzyY6qF54G8we3dd2TyaMzO7EwElEvXKsqquAqp+PbWYqWr1xgNKbHbsuPTOzkl1mx1D9WMehXZeW3I1knuVtt8vHuRKRJ46BcxJPI9mZ3NeO78eZg1zU4bcfwLXhjEHuGCv7wPN5ZpJE5F+mzqH65wNUbk56yOSkacA8pqO4OYhVPcFxBkc7qDUGgU8q67TbHfCQGRMRidSBU6rCpe9T+G9kpvj0JJMNqupA6cXrcHam1A5QQ9k2ATzE8+9rnEGJiLxIFTj1bEb7462dLT7c+R3PC8HUdVlEp8I7Y2o6IiIHzoFTesC7BU3dKZNlfsztd1hU1eyJaG++nXNzYaPHwDcyiUrhACvNfdjBytcCKrd9ZMdEdNW5BU49AbH62dhCMWg7TATJ0euD+mfv2V3YvqkX/VyiRKfOyBAq6sdZzz0KDWPhnjydM9juGjDLKe2IyA/3cZxnkv8rgcrnxMLybPVXqN2MP30zM47jJKIUMvWqJ0k13mR3/oKmqfrnEDSJiFLiLZe85ZKIHHE+TiIiR16r6kREVwEDJxGRIwZOIiInwP8BF4DDh0SgLAEAAAAASUVORK5CYII=)"
      ],
      "metadata": {
        "id": "GkcsEMbdA5sY"
      }
    },
    {
      "cell_type": "code",
      "source": [
        "import itertools"
      ],
      "metadata": {
        "id": "ZliCnao_BPIZ"
      },
      "execution_count": null,
      "outputs": []
    },
    {
      "cell_type": "code",
      "source": [
        "\n",
        "list1 = [12,-7,3,-89,14,4,-78,-1,2,7]\n",
        "combinations = list(itertools.combinations(list1,3))\n",
        "zero_list = []\n",
        "for i in combinations:\n",
        "  if sum(i)==0:\n",
        "    zero_list.append(i)\n",
        "for i in zero_list:\n",
        "  zero_list = list(zero_list[0])\n",
        "\n",
        "input_dict = {j:i for i,j in enumerate(list1)}\n",
        "index_list = []\n",
        "for f in zero_list:\n",
        "  index_list.append(input_dict[f])"
      ],
      "metadata": {
        "id": "wxYpufukA6UR"
      },
      "execution_count": null,
      "outputs": []
    },
    {
      "cell_type": "code",
      "execution_count": null,
      "metadata": {
        "colab": {
          "base_uri": "https://localhost:8080/"
        },
        "id": "eXMHAS4mAsrM",
        "outputId": "48b94c52-f681-456f-ce19-e3b469c3f5e7"
      },
      "outputs": [
        {
          "output_type": "execute_result",
          "data": {
            "text/plain": [
              "[1, 2, 5]"
            ]
          },
          "metadata": {},
          "execution_count": 7
        }
      ],
      "source": [
        "index_list"
      ]
    },
    {
      "cell_type": "code",
      "source": [
        "def zero_sum(list1):\n",
        "  '''\n",
        "  This function locates the indices of those three elements of the list, whose sum is zero.\n",
        "  '''\n",
        "  combinations = list(itertools.combinations(list1,3))\n",
        "  zero_list = []\n",
        "  for i in combinations:\n",
        "    if sum(i)==0:\n",
        "      zero_list.append(list(i))\n",
        "  zero_list\n",
        "  length = len(zero_list)\n",
        "  input_dict = {j:i for i,j in enumerate(list1)}\n",
        "\n",
        "  index_list = []\n",
        "  for list_ in zero_list:\n",
        "    t = []\n",
        "    for element in list_:\n",
        "      t.append(input_dict[element])\n",
        "    index_list.append(t)\n",
        "  return index_list"
      ],
      "metadata": {
        "id": "FUFs6IY4BBih"
      },
      "execution_count": null,
      "outputs": []
    },
    {
      "cell_type": "code",
      "source": [
        "list1 = [1,2,3,4,5,6,-7]\n",
        "\n",
        "zero_sum(list1)"
      ],
      "metadata": {
        "colab": {
          "base_uri": "https://localhost:8080/"
        },
        "id": "eE1mtDfjBE8a",
        "outputId": "90af8a7d-acb7-493e-bf2b-7d5647899b7e"
      },
      "execution_count": null,
      "outputs": [
        {
          "output_type": "execute_result",
          "data": {
            "text/plain": [
              "[[0, 5, 6], [1, 4, 6], [2, 3, 6]]"
            ]
          },
          "metadata": {},
          "execution_count": 9
        }
      ]
    },
    {
      "cell_type": "code",
      "source": [
        ""
      ],
      "metadata": {
        "id": "mPDGXyuTBIlH"
      },
      "execution_count": null,
      "outputs": []
    }
  ]
}